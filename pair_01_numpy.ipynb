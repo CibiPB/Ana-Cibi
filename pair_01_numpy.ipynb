{
 "cells": [
  {
   "cell_type": "code",
   "execution_count": 2,
   "metadata": {},
   "outputs": [],
   "source": [
    "import numpy as np\n",
    "import random "
   ]
  },
  {
   "cell_type": "markdown",
   "metadata": {},
   "source": [
    "## Creación y Indexación:"
   ]
  },
  {
   "cell_type": "markdown",
   "metadata": {},
   "source": [
    "1. Crea un array 1D con 50 valores aleatorio del 10 al 99. Accede a los elementos en las posiciones múltiplos de 5."
   ]
  },
  {
   "cell_type": "code",
   "execution_count": 20,
   "metadata": {},
   "outputs": [
    {
     "data": {
      "text/plain": [
       "array([59, 30, 55, 91, 67, 83, 42, 92, 99, 10, 49, 28, 24, 10, 29, 73, 29,\n",
       "       80, 44, 76, 75, 21, 35, 99, 38, 73, 26, 96, 78, 95, 87, 92, 98, 53,\n",
       "       80, 19, 99, 90, 17, 77, 32, 63, 37, 49, 43, 47, 74, 35, 17, 36])"
      ]
     },
     "execution_count": 20,
     "metadata": {},
     "output_type": "execute_result"
    }
   ],
   "source": [
    "array_act1 = np.random.randint(10, 100, (50))\n",
    "array_act1"
   ]
  },
  {
   "cell_type": "code",
   "execution_count": 21,
   "metadata": {},
   "outputs": [
    {
     "data": {
      "text/plain": [
       "array([30, 55, 10, 10, 80, 75, 35, 95, 80, 90, 35])"
      ]
     },
     "execution_count": 21,
     "metadata": {},
     "output_type": "execute_result"
    }
   ],
   "source": [
    "array_act1[array_act1 %5 == 0]"
   ]
  },
  {
   "cell_type": "code",
   "execution_count": 22,
   "metadata": {},
   "outputs": [
    {
     "data": {
      "text/plain": [
       "array([59, 83, 49, 73, 75, 73, 87, 19, 32, 47])"
      ]
     },
     "execution_count": 22,
     "metadata": {},
     "output_type": "execute_result"
    }
   ],
   "source": [
    "multiplos = array_act1[::5] #seleccionar de 5 en 5\n",
    "multiplos"
   ]
  },
  {
   "cell_type": "markdown",
   "metadata": {},
   "source": [
    "2. Crea un array 1D con 30 valores aleatorios del 1 al 20 (ambos incluidos). Utiliza indexación para obtener los elementos en las posiciones impares."
   ]
  },
  {
   "cell_type": "code",
   "execution_count": 26,
   "metadata": {},
   "outputs": [
    {
     "data": {
      "text/plain": [
       "array([ 3, 14, 20,  2,  4,  5,  1, 16, 19,  8, 11,  5,  8,  3,  1, 20,  8,\n",
       "       14, 20, 12,  7,  5, 11,  1, 17, 10,  7,  1,  2, 13])"
      ]
     },
     "execution_count": 26,
     "metadata": {},
     "output_type": "execute_result"
    }
   ],
   "source": [
    "array_act2 = np.random.randint(1,21, (30))\n",
    "array_act2\n"
   ]
  },
  {
   "cell_type": "code",
   "execution_count": 37,
   "metadata": {},
   "outputs": [
    {
     "data": {
      "text/plain": [
       "array([14,  2,  5, 16,  8,  5,  3, 20, 14, 12,  5,  1, 10,  1, 13])"
      ]
     },
     "execution_count": 37,
     "metadata": {},
     "output_type": "execute_result"
    }
   ],
   "source": [
    "impares = array_act2[1::2]\n",
    "impares"
   ]
  },
  {
   "cell_type": "markdown",
   "metadata": {},
   "source": [
    "3. Crea un array 2D de forma (4, 6) con números aleatorios decimales (no deben estar comprendidos solo entre 0 y 1). Accede a la última fila de la matriz. Los decimales deben estar redondeados a 2 decimales."
   ]
  },
  {
   "cell_type": "code",
   "execution_count": 39,
   "metadata": {},
   "outputs": [
    {
     "data": {
      "text/plain": [
       "array([[0.17263709, 0.08505418, 0.96942337, 0.49634077, 0.81624494,\n",
       "        0.00788883],\n",
       "       [0.3251549 , 0.9174429 , 0.11199121, 0.46315781, 0.68466699,\n",
       "        0.6575703 ],\n",
       "       [0.8221198 , 0.34365639, 0.96278627, 0.19447133, 0.95325758,\n",
       "        0.99357877],\n",
       "       [0.91207589, 0.36336497, 0.33826739, 0.94707614, 0.05839751,\n",
       "        0.10309013]])"
      ]
     },
     "execution_count": 39,
     "metadata": {},
     "output_type": "execute_result"
    }
   ],
   "source": [
    "array_act3 = np.random.rand(4,6)\n",
    "array_act3"
   ]
  },
  {
   "cell_type": "code",
   "execution_count": 42,
   "metadata": {},
   "outputs": [
    {
     "data": {
      "text/plain": [
       "array([[0.17, 0.09, 0.97, 0.5 , 0.82, 0.01],\n",
       "       [0.33, 0.92, 0.11, 0.46, 0.68, 0.66],\n",
       "       [0.82, 0.34, 0.96, 0.19, 0.95, 0.99],\n",
       "       [0.91, 0.36, 0.34, 0.95, 0.06, 0.1 ]])"
      ]
     },
     "execution_count": 42,
     "metadata": {},
     "output_type": "execute_result"
    }
   ],
   "source": [
    "array_act3 = np.round(array_act3, 2)\n",
    "array_act3"
   ]
  },
  {
   "cell_type": "code",
   "execution_count": 44,
   "metadata": {},
   "outputs": [
    {
     "data": {
      "text/plain": [
       "array([0.91, 0.36, 0.34, 0.95, 0.06, 0.1 ])"
      ]
     },
     "execution_count": 44,
     "metadata": {},
     "output_type": "execute_result"
    }
   ],
   "source": [
    "ultima_fila = array_act3[-1]\n",
    "ultima_fila"
   ]
  },
  {
   "cell_type": "markdown",
   "metadata": {},
   "source": [
    "## Funciones Aritméticas y Estadísticas:"
   ]
  },
  {
   "cell_type": "markdown",
   "metadata": {},
   "source": [
    "1. Crea un array de tres 3D con elementos entre el 0 y 1 de forma (2, 3, 5) cuyos valores solo tengan 1 decimal."
   ]
  },
  {
   "cell_type": "code",
   "execution_count": 47,
   "metadata": {},
   "outputs": [
    {
     "data": {
      "text/plain": [
       "array([[[0.93704766, 0.16335667, 0.73638065, 0.89198071, 0.8412699 ],\n",
       "        [0.35230032, 0.9586663 , 0.79034234, 0.50589389, 0.84939618],\n",
       "        [0.11945964, 0.76980108, 0.2776314 , 0.63450318, 0.70077011]],\n",
       "\n",
       "       [[0.1596423 , 0.21337765, 0.16153185, 0.95989047, 0.31359884],\n",
       "        [0.70669478, 0.33128042, 0.62603471, 0.43375484, 0.26483952],\n",
       "        [0.98630675, 0.22540277, 0.47227407, 0.19534855, 0.6712418 ]]])"
      ]
     },
     "execution_count": 47,
     "metadata": {},
     "output_type": "execute_result"
    }
   ],
   "source": [
    "array_3d = np.random.rand(2, 3 ,5)\n",
    "array_3d"
   ]
  },
  {
   "cell_type": "code",
   "execution_count": 48,
   "metadata": {},
   "outputs": [
    {
     "data": {
      "text/plain": [
       "array([[[0.9, 0.2, 0.7, 0.9, 0.8],\n",
       "        [0.4, 1. , 0.8, 0.5, 0.8],\n",
       "        [0.1, 0.8, 0.3, 0.6, 0.7]],\n",
       "\n",
       "       [[0.2, 0.2, 0.2, 1. , 0.3],\n",
       "        [0.7, 0.3, 0.6, 0.4, 0.3],\n",
       "        [1. , 0.2, 0.5, 0.2, 0.7]]])"
      ]
     },
     "execution_count": 48,
     "metadata": {},
     "output_type": "execute_result"
    }
   ],
   "source": [
    "array_3d = np.round(array_3d, 1)\n",
    "array_3d"
   ]
  },
  {
   "cell_type": "markdown",
   "metadata": {},
   "source": [
    "2. Crea un array vacío con la misma forma y dimensiones que el array creado anteriormente. Vamos a reemplazar los valores de la matriz vacía que nos acabamos de crear pero basándonos en los valores del primer array bajo las siguientes condiciones:\n",
    "\n",
    "Si el valor del array es igual que la media, se reemplaza por \"A\".\n",
    "\n",
    "Si el valor del array es mayor que la media, se reemplaza por \"B\".\n",
    "\n",
    "Si el valor del array es menor que la media, se reemplaza por \"C\".\n",
    "\n",
    "Si el valor es igual que el máximo, se reemplaza por \"D\".\n",
    "\n",
    "Si el valor es igual que el mínimo, se reemplaza por \"E\"."
   ]
  },
  {
   "cell_type": "code",
   "execution_count": null,
   "metadata": {},
   "outputs": [
    {
     "data": {
      "text/plain": [
       "array([[[0.9, 0.2, 0.7, 0.9, 0.8],\n",
       "        [0.4, 1. , 0.8, 0.5, 0.8],\n",
       "        [0.1, 0.8, 0.3, 0.6, 0.7]],\n",
       "\n",
       "       [[0.2, 0.2, 0.2, 1. , 0.3],\n",
       "        [0.7, 0.3, 0.6, 0.4, 0.3],\n",
       "        [1. , 0.2, 0.5, 0.2, 0.7]]])"
      ]
     },
     "execution_count": 51,
     "metadata": {},
     "output_type": "execute_result"
    }
   ],
   "source": [
    "array_vacio = np.empty((2, 3, 5)) #¿por qué es vacío si lo imprimimos con números?\n",
    "array_vacio"
   ]
  },
  {
   "cell_type": "code",
   "execution_count": null,
   "metadata": {},
   "outputs": [
    {
     "data": {
      "text/plain": [
       "array([[['0.9', '0.2', '0.7', '0.9', '0.8'],\n",
       "        ['0.4', '1.0', '0.8', '0.5', '0.8'],\n",
       "        ['0.1', '0.8', '0.3', '0.6', '0.7']],\n",
       "\n",
       "       [['0.2', '0.2', '0.2', '1.0', '0.3'],\n",
       "        ['0.7', '0.3', '0.6', '0.4', '0.3'],\n",
       "        ['1.0', '0.2', '0.5', '0.2', '0.7']]], dtype='<U32')"
      ]
     },
     "execution_count": 59,
     "metadata": {},
     "output_type": "execute_result"
    }
   ],
   "source": [
    "media = np.mean(array_3d) #aqui estamos creando la variable con la media del ejer anterior\n",
    "cualquiera = np.where(array_vacio == media, 'A', array_vacio) #el último array_vacio después de A es por si no lo encuentra que deje ese array vacio\n",
    "cualquiera"
   ]
  },
  {
   "cell_type": "code",
   "execution_count": 57,
   "metadata": {},
   "outputs": [
    {
     "data": {
      "text/plain": [
       "0.5433333333333332"
      ]
     },
     "execution_count": 57,
     "metadata": {},
     "output_type": "execute_result"
    }
   ],
   "source": [
    "media"
   ]
  },
  {
   "cell_type": "code",
   "execution_count": 61,
   "metadata": {},
   "outputs": [
    {
     "data": {
      "text/plain": [
       "array([[['B', '0.2', 'B', 'B', 'B'],\n",
       "        ['0.4', 'B', 'B', '0.5', 'B'],\n",
       "        ['0.1', 'B', '0.3', 'B', 'B']],\n",
       "\n",
       "       [['0.2', '0.2', '0.2', 'B', '0.3'],\n",
       "        ['B', '0.3', 'B', '0.4', '0.3'],\n",
       "        ['B', '0.2', '0.5', '0.2', 'B']]], dtype='<U32')"
      ]
     },
     "execution_count": 61,
     "metadata": {},
     "output_type": "execute_result"
    }
   ],
   "source": [
    "cualquiera = np.where(array_vacio > media, 'B', array_vacio)\n",
    "cualquiera"
   ]
  },
  {
   "cell_type": "code",
   "execution_count": 62,
   "metadata": {},
   "outputs": [
    {
     "data": {
      "text/plain": [
       "array([[['0.9', 'C', '0.7', '0.9', '0.8'],\n",
       "        ['C', '1.0', '0.8', 'C', '0.8'],\n",
       "        ['C', '0.8', 'C', '0.6', '0.7']],\n",
       "\n",
       "       [['C', 'C', 'C', '1.0', 'C'],\n",
       "        ['0.7', 'C', '0.6', 'C', 'C'],\n",
       "        ['1.0', 'C', 'C', 'C', '0.7']]], dtype='<U32')"
      ]
     },
     "execution_count": 62,
     "metadata": {},
     "output_type": "execute_result"
    }
   ],
   "source": [
    "cualquiera = np.where(array_vacio < media, 'C', array_vacio)\n",
    "cualquiera"
   ]
  },
  {
   "cell_type": "code",
   "execution_count": null,
   "metadata": {},
   "outputs": [
    {
     "data": {
      "text/plain": [
       "array([[['0.9', '0.2', '0.7', '0.9', '0.8'],\n",
       "        ['0.4', '1.0', '0.8', '0.5', '0.8'],\n",
       "        ['E', '0.8', '0.3', '0.6', '0.7']],\n",
       "\n",
       "       [['0.2', '0.2', '0.2', '1.0', '0.3'],\n",
       "        ['0.7', '0.3', '0.6', '0.4', '0.3'],\n",
       "        ['1.0', '0.2', '0.5', '0.2', '0.7']]], dtype='<U32')"
      ]
     },
     "execution_count": 67,
     "metadata": {},
     "output_type": "execute_result"
    }
   ],
   "source": [
    "maximo = np.max(array_3d)\n",
    "cualquiera = np.where(array_vacio == maximo, 'D', array_vacio)\n",
    "cualquiera"
   ]
  },
  {
   "cell_type": "code",
   "execution_count": 68,
   "metadata": {},
   "outputs": [
    {
     "data": {
      "text/plain": [
       "array([[['0.9', '0.2', '0.7', '0.9', '0.8'],\n",
       "        ['0.4', '1.0', '0.8', '0.5', '0.8'],\n",
       "        ['E', '0.8', '0.3', '0.6', '0.7']],\n",
       "\n",
       "       [['0.2', '0.2', '0.2', '1.0', '0.3'],\n",
       "        ['0.7', '0.3', '0.6', '0.4', '0.3'],\n",
       "        ['1.0', '0.2', '0.5', '0.2', '0.7']]], dtype='<U32')"
      ]
     },
     "execution_count": 68,
     "metadata": {},
     "output_type": "execute_result"
    }
   ],
   "source": [
    "minimo = np.min(array_3d)\n",
    "cualquiera = np.where(array_vacio == minimo, 'E', array_vacio)\n",
    "cualquiera"
   ]
  },
  {
   "cell_type": "code",
   "execution_count": null,
   "metadata": {},
   "outputs": [],
   "source": [
    "#sale bien pero falta juntarlo que es como pone en el ejemplo"
   ]
  },
  {
   "cell_type": "code",
   "execution_count": 80,
   "metadata": {},
   "outputs": [],
   "source": [
    "cualquiera1 = np.where(array_vacio == media, 'A', array_vacio)\n",
    "cualquiera2 = np.where(array_vacio > media, 'B', array_vacio)\n",
    "cualquiera3 = np.where(array_vacio < media, 'C', array_vacio)\n",
    "cualquiera4 = np.where(array_vacio == maximo, 'D', array_vacio)\n",
    "cualquiera5 = np.where(array_vacio == minimo, 'E', array_vacio)"
   ]
  },
  {
   "cell_type": "code",
   "execution_count": 81,
   "metadata": {},
   "outputs": [
    {
     "ename": "TypeError",
     "evalue": "ufunc 'bitwise_and' not supported for the input types, and the inputs could not be safely coerced to any supported types according to the casting rule ''safe''",
     "output_type": "error",
     "traceback": [
      "\u001b[1;31m---------------------------------------------------------------------------\u001b[0m",
      "\u001b[1;31mTypeError\u001b[0m                                 Traceback (most recent call last)",
      "Cell \u001b[1;32mIn[81], line 1\u001b[0m\n\u001b[1;32m----> 1\u001b[0m todo_junto1 \u001b[38;5;241m=\u001b[39m [(cualquiera1)\u001b[38;5;241m&\u001b[39m(cualquiera2)\u001b[38;5;241m&\u001b[39m(cualquiera3)\u001b[38;5;241m&\u001b[39m(cualquiera4)\u001b[38;5;241m&\u001b[39m(cualquiera5)]\n",
      "\u001b[1;31mTypeError\u001b[0m: ufunc 'bitwise_and' not supported for the input types, and the inputs could not be safely coerced to any supported types according to the casting rule ''safe''"
     ]
    }
   ],
   "source": [
    "todo_junto1 = [(cualquiera1)&(cualquiera2)&(cualquiera3)&(cualquiera4)&(cualquiera5)]"
   ]
  },
  {
   "cell_type": "code",
   "execution_count": null,
   "metadata": {},
   "outputs": [
    {
     "ename": "TypeError",
     "evalue": "ufunc 'bitwise_or' not supported for the input types, and the inputs could not be safely coerced to any supported types according to the casting rule ''safe''",
     "output_type": "error",
     "traceback": [
      "\u001b[1;31m---------------------------------------------------------------------------\u001b[0m",
      "\u001b[1;31mTypeError\u001b[0m                                 Traceback (most recent call last)",
      "Cell \u001b[1;32mIn[82], line 1\u001b[0m\n\u001b[1;32m----> 1\u001b[0m todo_junto \u001b[38;5;241m=\u001b[39m [(cualquiera1)\u001b[38;5;241m|\u001b[39m(cualquiera2)\u001b[38;5;241m|\u001b[39m(cualquiera3)\u001b[38;5;241m|\u001b[39m(cualquiera4)\u001b[38;5;241m|\u001b[39m(cualquiera5)]\n",
      "\u001b[1;31mTypeError\u001b[0m: ufunc 'bitwise_or' not supported for the input types, and the inputs could not be safely coerced to any supported types according to the casting rule ''safe''"
     ]
    },
    {
     "ename": "",
     "evalue": "",
     "output_type": "error",
     "traceback": [
      "\u001b[1;31mThe Kernel crashed while executing code in the current cell or a previous cell. \n",
      "\u001b[1;31mPlease review the code in the cell(s) to identify a possible cause of the failure. \n",
      "\u001b[1;31mClick <a href='https://aka.ms/vscodeJupyterKernelCrash'>here</a> for more info. \n",
      "\u001b[1;31mView Jupyter <a href='command:jupyter.viewOutput'>log</a> for further details."
     ]
    }
   ],
   "source": [
    "todo_junto = [(cualquiera1)|(cualquiera2)|(cualquiera3)|(cualquiera4)|(cualquiera5)]"
   ]
  }
 ],
 "metadata": {
  "kernelspec": {
   "display_name": "base",
   "language": "python",
   "name": "python3"
  },
  "language_info": {
   "codemirror_mode": {
    "name": "ipython",
    "version": 3
   },
   "file_extension": ".py",
   "mimetype": "text/x-python",
   "name": "python",
   "nbconvert_exporter": "python",
   "pygments_lexer": "ipython3",
   "version": "3.12.7"
  }
 },
 "nbformat": 4,
 "nbformat_minor": 2
}
